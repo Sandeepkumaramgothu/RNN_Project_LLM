{
 "cells": [
  {
   "cell_type": "code",
   "execution_count": 14,
   "id": "965228e9",
   "metadata": {},
   "outputs": [],
   "source": [
    "import numpy as np\n",
    "import tensorflow as tf\n",
    "from tensorflow.keras.preprocessing.text import one_hot     \n",
    "from tensorflow.keras.preprocessing.text import Tokenizer\n",
    "from tensorflow.keras.preprocessing.sequence import pad_sequences       \n",
    "from tensorflow.keras.layers import Embedding, LSTM, Dense, SimpleRNN\n",
    "from tensorflow.keras.optimizers import Adam\n",
    "from tensorflow.keras.models import Sequential\n",
    "\n",
    "from tensorflow.keras.datasets import imdb  \n"
   ]
  },
  {
   "cell_type": "code",
   "execution_count": 2,
   "id": "4bb30828",
   "metadata": {},
   "outputs": [],
   "source": [
    "#load the IMDB dataset word index\n",
    "imdb_word_index = imdb.get_word_index() \n",
    "# Reverse the word index to get words from indices\n",
    "reverse_word_index = dict([(value, key) for (key, value) in imdb_word_index.items()])               \n"
   ]
  },
  {
   "cell_type": "code",
   "execution_count": null,
   "id": "40fc1b37",
   "metadata": {},
   "outputs": [
    {
     "name": "stderr",
     "output_type": "stream",
     "text": [
      "WARNING:absl:Compiled the loaded model, but the compiled metrics have yet to be built. `model.compile_metrics` will be empty until you train or evaluate the model.\n"
     ]
    },
    {
     "data": {
      "text/html": [
       "<pre style=\"white-space:pre;overflow-x:auto;line-height:normal;font-family:Menlo,'DejaVu Sans Mono',consolas,'Courier New',monospace\"><span style=\"font-weight: bold\">Model: \"sequential_6\"</span>\n",
       "</pre>\n"
      ],
      "text/plain": [
       "\u001b[1mModel: \"sequential_6\"\u001b[0m\n"
      ]
     },
     "metadata": {},
     "output_type": "display_data"
    },
    {
     "data": {
      "text/html": [
       "<pre style=\"white-space:pre;overflow-x:auto;line-height:normal;font-family:Menlo,'DejaVu Sans Mono',consolas,'Courier New',monospace\">┏━━━━━━━━━━━━━━━━━━━━━━━━━━━━━━━━━┳━━━━━━━━━━━━━━━━━━━━━━━━┳━━━━━━━━━━━━━━━┓\n",
       "┃<span style=\"font-weight: bold\"> Layer (type)                    </span>┃<span style=\"font-weight: bold\"> Output Shape           </span>┃<span style=\"font-weight: bold\">       Param # </span>┃\n",
       "┡━━━━━━━━━━━━━━━━━━━━━━━━━━━━━━━━━╇━━━━━━━━━━━━━━━━━━━━━━━━╇━━━━━━━━━━━━━━━┩\n",
       "│ embedding_4 (<span style=\"color: #0087ff; text-decoration-color: #0087ff\">Embedding</span>)         │ (<span style=\"color: #00d7ff; text-decoration-color: #00d7ff\">None</span>, <span style=\"color: #00af00; text-decoration-color: #00af00\">100</span>, <span style=\"color: #00af00; text-decoration-color: #00af00\">128</span>)       │     <span style=\"color: #00af00; text-decoration-color: #00af00\">1,280,000</span> │\n",
       "├─────────────────────────────────┼────────────────────────┼───────────────┤\n",
       "│ simple_rnn_8 (<span style=\"color: #0087ff; text-decoration-color: #0087ff\">SimpleRNN</span>)        │ (<span style=\"color: #00d7ff; text-decoration-color: #00d7ff\">None</span>, <span style=\"color: #00af00; text-decoration-color: #00af00\">100</span>, <span style=\"color: #00af00; text-decoration-color: #00af00\">128</span>)       │        <span style=\"color: #00af00; text-decoration-color: #00af00\">32,896</span> │\n",
       "├─────────────────────────────────┼────────────────────────┼───────────────┤\n",
       "│ simple_rnn_9 (<span style=\"color: #0087ff; text-decoration-color: #0087ff\">SimpleRNN</span>)        │ (<span style=\"color: #00d7ff; text-decoration-color: #00d7ff\">None</span>, <span style=\"color: #00af00; text-decoration-color: #00af00\">64</span>)             │        <span style=\"color: #00af00; text-decoration-color: #00af00\">12,352</span> │\n",
       "├─────────────────────────────────┼────────────────────────┼───────────────┤\n",
       "│ dense_4 (<span style=\"color: #0087ff; text-decoration-color: #0087ff\">Dense</span>)                 │ (<span style=\"color: #00d7ff; text-decoration-color: #00d7ff\">None</span>, <span style=\"color: #00af00; text-decoration-color: #00af00\">1</span>)              │            <span style=\"color: #00af00; text-decoration-color: #00af00\">65</span> │\n",
       "└─────────────────────────────────┴────────────────────────┴───────────────┘\n",
       "</pre>\n"
      ],
      "text/plain": [
       "┏━━━━━━━━━━━━━━━━━━━━━━━━━━━━━━━━━┳━━━━━━━━━━━━━━━━━━━━━━━━┳━━━━━━━━━━━━━━━┓\n",
       "┃\u001b[1m \u001b[0m\u001b[1mLayer (type)                   \u001b[0m\u001b[1m \u001b[0m┃\u001b[1m \u001b[0m\u001b[1mOutput Shape          \u001b[0m\u001b[1m \u001b[0m┃\u001b[1m \u001b[0m\u001b[1m      Param #\u001b[0m\u001b[1m \u001b[0m┃\n",
       "┡━━━━━━━━━━━━━━━━━━━━━━━━━━━━━━━━━╇━━━━━━━━━━━━━━━━━━━━━━━━╇━━━━━━━━━━━━━━━┩\n",
       "│ embedding_4 (\u001b[38;5;33mEmbedding\u001b[0m)         │ (\u001b[38;5;45mNone\u001b[0m, \u001b[38;5;34m100\u001b[0m, \u001b[38;5;34m128\u001b[0m)       │     \u001b[38;5;34m1,280,000\u001b[0m │\n",
       "├─────────────────────────────────┼────────────────────────┼───────────────┤\n",
       "│ simple_rnn_8 (\u001b[38;5;33mSimpleRNN\u001b[0m)        │ (\u001b[38;5;45mNone\u001b[0m, \u001b[38;5;34m100\u001b[0m, \u001b[38;5;34m128\u001b[0m)       │        \u001b[38;5;34m32,896\u001b[0m │\n",
       "├─────────────────────────────────┼────────────────────────┼───────────────┤\n",
       "│ simple_rnn_9 (\u001b[38;5;33mSimpleRNN\u001b[0m)        │ (\u001b[38;5;45mNone\u001b[0m, \u001b[38;5;34m64\u001b[0m)             │        \u001b[38;5;34m12,352\u001b[0m │\n",
       "├─────────────────────────────────┼────────────────────────┼───────────────┤\n",
       "│ dense_4 (\u001b[38;5;33mDense\u001b[0m)                 │ (\u001b[38;5;45mNone\u001b[0m, \u001b[38;5;34m1\u001b[0m)              │            \u001b[38;5;34m65\u001b[0m │\n",
       "└─────────────────────────────────┴────────────────────────┴───────────────┘\n"
      ]
     },
     "metadata": {},
     "output_type": "display_data"
    },
    {
     "data": {
      "text/html": [
       "<pre style=\"white-space:pre;overflow-x:auto;line-height:normal;font-family:Menlo,'DejaVu Sans Mono',consolas,'Courier New',monospace\"><span style=\"font-weight: bold\"> Total params: </span><span style=\"color: #00af00; text-decoration-color: #00af00\">1,325,315</span> (5.06 MB)\n",
       "</pre>\n"
      ],
      "text/plain": [
       "\u001b[1m Total params: \u001b[0m\u001b[38;5;34m1,325,315\u001b[0m (5.06 MB)\n"
      ]
     },
     "metadata": {},
     "output_type": "display_data"
    },
    {
     "data": {
      "text/html": [
       "<pre style=\"white-space:pre;overflow-x:auto;line-height:normal;font-family:Menlo,'DejaVu Sans Mono',consolas,'Courier New',monospace\"><span style=\"font-weight: bold\"> Trainable params: </span><span style=\"color: #00af00; text-decoration-color: #00af00\">1,325,313</span> (5.06 MB)\n",
       "</pre>\n"
      ],
      "text/plain": [
       "\u001b[1m Trainable params: \u001b[0m\u001b[38;5;34m1,325,313\u001b[0m (5.06 MB)\n"
      ]
     },
     "metadata": {},
     "output_type": "display_data"
    },
    {
     "data": {
      "text/html": [
       "<pre style=\"white-space:pre;overflow-x:auto;line-height:normal;font-family:Menlo,'DejaVu Sans Mono',consolas,'Courier New',monospace\"><span style=\"font-weight: bold\"> Non-trainable params: </span><span style=\"color: #00af00; text-decoration-color: #00af00\">0</span> (0.00 B)\n",
       "</pre>\n"
      ],
      "text/plain": [
       "\u001b[1m Non-trainable params: \u001b[0m\u001b[38;5;34m0\u001b[0m (0.00 B)\n"
      ]
     },
     "metadata": {},
     "output_type": "display_data"
    },
    {
     "data": {
      "text/html": [
       "<pre style=\"white-space:pre;overflow-x:auto;line-height:normal;font-family:Menlo,'DejaVu Sans Mono',consolas,'Courier New',monospace\"><span style=\"font-weight: bold\"> Optimizer params: </span><span style=\"color: #00af00; text-decoration-color: #00af00\">2</span> (12.00 B)\n",
       "</pre>\n"
      ],
      "text/plain": [
       "\u001b[1m Optimizer params: \u001b[0m\u001b[38;5;34m2\u001b[0m (12.00 B)\n"
      ]
     },
     "metadata": {},
     "output_type": "display_data"
    }
   ],
   "source": [
    "#load the model\n",
    "model = tf.keras.models.load_model('simple_rnn_model.h5')  # Load the saved model   \n",
    "model.summary()  # Print the model summary  "
   ]
  },
  {
   "cell_type": "code",
   "execution_count": 4,
   "id": "ee4af160",
   "metadata": {},
   "outputs": [
    {
     "data": {
      "text/plain": [
       "[array([[-0.04477138, -0.09920917,  0.03527232, ...,  0.00158223,\n",
       "         -0.00085148, -0.00693462],\n",
       "        [-0.07991624,  0.03256688, -0.07484964, ...,  0.034887  ,\n",
       "         -0.03252967,  0.02118639],\n",
       "        [-0.00712351,  0.06910551,  0.00534856, ...,  0.01510307,\n",
       "         -0.04169187,  0.04203723],\n",
       "        ...,\n",
       "        [-0.01755012,  0.00631404, -0.00733489, ..., -0.04336466,\n",
       "          0.06259421,  0.04185373],\n",
       "        [-0.07674392,  0.02167653,  0.03881739, ...,  0.02083483,\n",
       "         -0.04149803, -0.02983357],\n",
       "        [ 0.09181703, -0.10711601,  0.08972591, ..., -0.02157585,\n",
       "         -0.0299427 , -0.02686002]], dtype=float32),\n",
       " array([[-0.02219686,  0.01742627, -0.19743006, ...,  0.11566348,\n",
       "          0.00587422, -0.0016385 ],\n",
       "        [-0.11644522, -0.08310608, -0.12336759, ...,  0.0215508 ,\n",
       "         -0.12590653, -0.08051443],\n",
       "        [-0.13699555, -0.15853612, -0.1870735 , ...,  0.08610865,\n",
       "         -0.1605547 , -0.13153422],\n",
       "        ...,\n",
       "        [-0.03981204,  0.13208586,  0.11265317, ...,  0.11472388,\n",
       "         -0.19982824, -0.00173942],\n",
       "        [-0.04727412, -0.09411621,  0.14081211, ...,  0.08830576,\n",
       "         -0.05903319, -0.05218913],\n",
       "        [ 0.11177538,  0.15505107,  0.12168626, ..., -0.1279293 ,\n",
       "         -0.10007527,  0.10783513]], dtype=float32),\n",
       " array([[-0.06690761, -0.08762114, -0.08565822, ...,  0.13840045,\n",
       "         -0.08264994,  0.08403161],\n",
       "        [-0.15353763,  0.14692965, -0.17230466, ..., -0.13635953,\n",
       "         -0.11094236, -0.12811258],\n",
       "        [-0.12827267,  0.11747609, -0.12654755, ..., -0.10640886,\n",
       "         -0.19466072,  0.02725524],\n",
       "        ...,\n",
       "        [-0.11083304,  0.03789769, -0.15642257, ..., -0.0929395 ,\n",
       "          0.0311149 , -0.13426287],\n",
       "        [-0.02989805,  0.0884941 ,  0.10218494, ..., -0.04894021,\n",
       "          0.06010141,  0.01042329],\n",
       "        [-0.0204998 ,  0.03758641,  0.05846868, ...,  0.02049569,\n",
       "          0.10934655, -0.04957404]], dtype=float32),\n",
       " array([-0.02504202, -0.02091832, -0.03172905, -0.01837571, -0.0309457 ,\n",
       "        -0.04343371, -0.01001125,  0.00240703, -0.0003296 , -0.00659027,\n",
       "        -0.00180577, -0.024224  , -0.00518004, -0.02356428, -0.04624134,\n",
       "        -0.00311428,  0.00927548, -0.02589282, -0.02177318,  0.01740468,\n",
       "        -0.04396736, -0.02017337, -0.02954055, -0.01293713, -0.02396141,\n",
       "        -0.02566888, -0.03417487, -0.03193786, -0.02602372,  0.01462665,\n",
       "        -0.03848035,  0.01129439,  0.01168962, -0.010299  ,  0.01509743,\n",
       "         0.02555824,  0.02274757, -0.0167288 , -0.01003465,  0.00797465,\n",
       "        -0.04024072, -0.04744781, -0.01326536, -0.01964077, -0.00017118,\n",
       "        -0.00117957,  0.01202897, -0.03569309, -0.0436904 , -0.02415222,\n",
       "         0.01821232,  0.00096205,  0.01070689, -0.01674826, -0.05944478,\n",
       "         0.00116634, -0.02219296,  0.07780943, -0.02896901, -0.02541072,\n",
       "        -0.03287655, -0.02417198, -0.04160677, -0.00401397, -0.03256857,\n",
       "        -0.06303188,  0.01121118,  0.01153739, -0.0195653 , -0.02145901,\n",
       "        -0.03622154, -0.03672889,  0.00178369,  0.00978764, -0.04953317,\n",
       "        -0.00885253, -0.04614161, -0.03582662, -0.038803  ,  0.01188626,\n",
       "         0.01570408, -0.03156672, -0.00343099, -0.03344206, -0.01731678,\n",
       "        -0.03091323, -0.02433557, -0.02963039, -0.01041815, -0.01186118,\n",
       "         0.01145646,  0.00634073, -0.0253315 , -0.0335762 , -0.05261588,\n",
       "         0.01375597, -0.02936461, -0.02208642, -0.00082068, -0.02285928,\n",
       "        -0.0080284 , -0.0055499 , -0.01239759,  0.01384571,  0.0218502 ,\n",
       "        -0.0192309 , -0.03030306, -0.02902218, -0.02012695, -0.01545058,\n",
       "         0.02143919, -0.0223159 , -0.00675325, -0.01881858,  0.01045464,\n",
       "        -0.03252683, -0.00884193, -0.02724507, -0.02108365, -0.03126619,\n",
       "         0.03564266, -0.03317709, -0.00757783, -0.03544589, -0.00500475,\n",
       "        -0.02642743, -0.00930381, -0.01662726], dtype=float32),\n",
       " array([[-0.17579219, -0.12824698,  0.09057568, ..., -0.07674298,\n",
       "         -0.05999456,  0.04538234],\n",
       "        [-0.10839499, -0.16693938, -0.16838051, ...,  0.14915054,\n",
       "         -0.0996155 , -0.05052849],\n",
       "        [-0.1554417 , -0.04401739, -0.02065084, ..., -0.1687023 ,\n",
       "         -0.02889966,  0.07005782],\n",
       "        ...,\n",
       "        [ 0.1400192 ,  0.17734396,  0.0607609 , ...,  0.00872075,\n",
       "          0.00142239, -0.1246895 ],\n",
       "        [ 0.0196187 ,  0.0876165 , -0.09188294, ...,  0.18720119,\n",
       "         -0.02973381, -0.05603935],\n",
       "        [-0.04639777,  0.06236083,  0.03542076, ..., -0.04149058,\n",
       "         -0.11508601, -0.04824061]], dtype=float32),\n",
       " array([[-0.00799199, -0.15524524, -0.08081871, ..., -0.10141593,\n",
       "          0.0331062 , -0.00951333],\n",
       "        [-0.09469269,  0.13019931,  0.12143486, ..., -0.05795814,\n",
       "         -0.08750121, -0.02103497],\n",
       "        [-0.14443643,  0.06337732,  0.04800934, ...,  0.15844254,\n",
       "         -0.04320496,  0.15712197],\n",
       "        ...,\n",
       "        [ 0.17616081, -0.07402965, -0.06095465, ...,  0.08637366,\n",
       "          0.16192706,  0.09540884],\n",
       "        [-0.11402271,  0.1070793 ,  0.00779897, ..., -0.06432886,\n",
       "         -0.07902097,  0.12856236],\n",
       "        [-0.05524591, -0.01880297,  0.16207072, ..., -0.02337037,\n",
       "          0.10579567,  0.17505747]], dtype=float32),\n",
       " array([-0.00809343,  0.03277051,  0.02356642, -0.02093331, -0.03373114,\n",
       "        -0.02481264,  0.00288259,  0.01247922,  0.00901955, -0.01076402,\n",
       "        -0.02129915,  0.03544693,  0.00208418,  0.00151354,  0.01077886,\n",
       "        -0.01828447,  0.00012163,  0.02619566,  0.01554496,  0.04835   ,\n",
       "         0.02213282,  0.02138339,  0.01289099, -0.02668193,  0.01274749,\n",
       "        -0.0205162 ,  0.02141928,  0.00299633, -0.0096864 ,  0.03534197,\n",
       "        -0.00992949,  0.00897322, -0.02668019, -0.03179117,  0.03445003,\n",
       "         0.00531732,  0.02921883, -0.02355745,  0.00926616,  0.01572531,\n",
       "         0.01800353,  0.0051941 , -0.01862228,  0.01689118,  0.02318682,\n",
       "         0.01419622, -0.00440344,  0.00734938, -0.01278358, -0.01357146,\n",
       "         0.01744428,  0.01787381,  0.00866287, -0.01674386,  0.01068472,\n",
       "         0.01116773, -0.01700368,  0.03976458,  0.0256929 , -0.02449011,\n",
       "         0.02606238,  0.01148807, -0.01931636, -0.01230046], dtype=float32),\n",
       " array([[-0.01467907],\n",
       "        [-0.00794236],\n",
       "        [-0.30225003],\n",
       "        [ 0.23109111],\n",
       "        [-0.08696569],\n",
       "        [-0.09552633],\n",
       "        [-0.07144894],\n",
       "        [ 0.08700866],\n",
       "        [ 0.10089415],\n",
       "        [-0.01555241],\n",
       "        [-0.10150697],\n",
       "        [-0.2133177 ],\n",
       "        [ 0.08884121],\n",
       "        [-0.12475555],\n",
       "        [-0.10918101],\n",
       "        [ 0.02114229],\n",
       "        [-0.18583208],\n",
       "        [ 0.26277652],\n",
       "        [ 0.04427455],\n",
       "        [ 0.06956974],\n",
       "        [ 0.06773275],\n",
       "        [ 0.16340303],\n",
       "        [ 0.22571112],\n",
       "        [-0.18895707],\n",
       "        [ 0.11328643],\n",
       "        [-0.1996924 ],\n",
       "        [-0.02040243],\n",
       "        [-0.06162964],\n",
       "        [ 0.00840587],\n",
       "        [ 0.08186045],\n",
       "        [ 0.13509756],\n",
       "        [ 0.15426871],\n",
       "        [ 0.15043001],\n",
       "        [-0.08257549],\n",
       "        [ 0.08233176],\n",
       "        [-0.09501613],\n",
       "        [-0.26883915],\n",
       "        [ 0.0646737 ],\n",
       "        [ 0.00798716],\n",
       "        [-0.04552571],\n",
       "        [ 0.12813039],\n",
       "        [-0.02897466],\n",
       "        [-0.26491177],\n",
       "        [ 0.04668037],\n",
       "        [-0.1658084 ],\n",
       "        [-0.16454558],\n",
       "        [ 0.12451289],\n",
       "        [ 0.21008158],\n",
       "        [ 0.17693023],\n",
       "        [-0.04331972],\n",
       "        [-0.01059153],\n",
       "        [ 0.18545195],\n",
       "        [ 0.1983536 ],\n",
       "        [ 0.07291687],\n",
       "        [-0.24966708],\n",
       "        [ 0.29709244],\n",
       "        [ 0.28822196],\n",
       "        [ 0.26422346],\n",
       "        [-0.31231457],\n",
       "        [ 0.03098264],\n",
       "        [-0.13760653],\n",
       "        [-0.06511249],\n",
       "        [-0.18001841],\n",
       "        [ 0.03142663]], dtype=float32),\n",
       " array([-0.00757154], dtype=float32)]"
      ]
     },
     "execution_count": 4,
     "metadata": {},
     "output_type": "execute_result"
    }
   ],
   "source": [
    "model.get_weights()  # Get the weights of the model     "
   ]
  },
  {
   "cell_type": "code",
   "execution_count": 8,
   "id": "e65855b0",
   "metadata": {},
   "outputs": [],
   "source": [
    "#Helper function to decode reviews\n",
    "def decode_review(encoded_review):  \n",
    "    decoded_review = ' '.join([reverse_word_index.get(i - 3, '?') for i in encoded_review])\n",
    "    return decoded_review   \n",
    "\n",
    "\n",
    "def preprocess_review(review, maxlen=100):\n",
    "    # Tokenize the review\n",
    "    tokenizer = Tokenizer(num_words=5000)  # Use the same num_words as during training\n",
    "    tokenizer.fit_on_texts([review])  # Fit on the single review\n",
    "    encoded_review = tokenizer.texts_to_sequences([review])[0]  # Convert to sequence\n",
    "    padded_review = pad_sequences([encoded_review], maxlen=maxlen, padding='pre')  # Pad the sequence\n",
    "    return padded_review\n",
    "\n"
   ]
  },
  {
   "cell_type": "code",
   "execution_count": 13,
   "id": "dc2fceff",
   "metadata": {},
   "outputs": [
    {
     "name": "stdout",
     "output_type": "stream",
     "text": [
      "\u001b[1m1/1\u001b[0m \u001b[32m━━━━━━━━━━━━━━━━━━━━\u001b[0m\u001b[37m\u001b[0m \u001b[1m0s\u001b[0m 58ms/step\n",
      "Review: This movie was fantastic! I loved the plot and the acting was superb.\n",
      "sentiment negative\n",
      "Encoded Review: [[ 0  0  0  0  0  0  0  0  0  0  0  0  0  0  0  0  0  0  0  0  0  0  0  0\n",
      "   0  0  0  0  0  0  0  0  0  0  0  0  0  0  0  0  0  0  0  0  0  0  0  0\n",
      "   0  0  0  0  0  0  0  0  0  0  0  0  0  0  0  0  0  0  0  0  0  0  0  0\n",
      "   0  0  0  0  0  0  0  0  0  0  0  0  0  0  0  3  4  1  5  6  7  2  8  9\n",
      "   2 10  1 11]]\n",
      "Prediction: 0.4953\n",
      "Decoded Review: ? ? ? ? ? ? ? ? ? ? ? ? ? ? ? ? ? ? ? ? ? ? ? ? ? ? ? ? ? ? ? ? ? ? ? ? ? ? ? ? ? ? ? ? ? ? ? ? ? ? ? ? ? ? ? ? ? ? ? ? ? ? ? ? ? ? ? ? ? ? ? ? ? ? ? ? ? ? ? ? ? ? ? ? ? ? ? ? the ? and a of ? to is ? br ? in\n"
     ]
    }
   ],
   "source": [
    "#predict on a single review\n",
    "review = \"This movie was fantastic! I loved the plot and the acting was superb.\"        \n",
    "padded_review = preprocess_review(review)  # Preprocess the review\n",
    "prediction = model.predict(padded_review)  # Predict the sentiment  \n",
    "print(f\"Review: {review}\")\n",
    "print(\"sentiment\", \"positive\" if prediction[0][0] > 0.5 else \"negative\")  # Determine sentiment based on prediction score           \n",
    "print(f\"Encoded Review: {padded_review}\")   \n",
    "print(f\"Prediction: {prediction[0][0]:.4f}\")  # Print the prediction score  \n",
    "decoded_review = decode_review(padded_review[0])  # Decode the review\n",
    "print(f\"Decoded Review: {decoded_review}\")  # Print the decoded review  \n"
   ]
  },
  {
   "cell_type": "code",
   "execution_count": 10,
   "id": "bab311e0",
   "metadata": {},
   "outputs": [
    {
     "name": "stdout",
     "output_type": "stream",
     "text": [
      "\u001b[1m1/1\u001b[0m \u001b[32m━━━━━━━━━━━━━━━━━━━━\u001b[0m\u001b[37m\u001b[0m \u001b[1m0s\u001b[0m 46ms/step\n",
      "Review 1: This movie was fantastic! I loved the plot and the acting was superb.\n",
      "Encoded Review: [ 0  0  0  0  0  0  0  0  0  0  0  0  0  0  0  0  0  0  0  0  0  0  0  0\n",
      "  0  0  0  0  0  0  0  0  0  0  0  0  0  0  0  0  0  0  0  0  0  0  0  0\n",
      "  0  0  0  0  0  0  0  0  0  0  0  0  0  0  0  0  0  0  0  0  0  0  0  0\n",
      "  0  0  0  0  0  0  0  0  0  0  0  0  0  0  0  3  4  1  5  6  7  2  8  9\n",
      "  2 10  1 11]\n",
      "Prediction: 0.4953\n",
      "Decoded Review: ? ? ? ? ? ? ? ? ? ? ? ? ? ? ? ? ? ? ? ? ? ? ? ? ? ? ? ? ? ? ? ? ? ? ? ? ? ? ? ? ? ? ? ? ? ? ? ? ? ? ? ? ? ? ? ? ? ? ? ? ? ? ? ? ? ? ? ? ? ? ? ? ? ? ? ? ? ? ? ? ? ? ? ? ? ? ? ? the ? and a of ? to is ? br ? in\n",
      "\n",
      "Review 2: The film was a complete waste of time. I didn't enjoy it at all.\n",
      "Encoded Review: [ 0  0  0  0  0  0  0  0  0  0  0  0  0  0  0  0  0  0  0  0  0  0  0  0\n",
      "  0  0  0  0  0  0  0  0  0  0  0  0  0  0  0  0  0  0  0  0  0  0  0  0\n",
      "  0  0  0  0  0  0  0  0  0  0  0  0  0  0  0  0  0  0  0  0  0  0  0  0\n",
      "  0  0  0  0  0  0  0  0  0  0  0  0  0  0  1  2  3  4  5  6  7  8  9 10\n",
      " 11 12 13 14]\n",
      "Prediction: 0.3932\n",
      "Decoded Review: ? ? ? ? ? ? ? ? ? ? ? ? ? ? ? ? ? ? ? ? ? ? ? ? ? ? ? ? ? ? ? ? ? ? ? ? ? ? ? ? ? ? ? ? ? ? ? ? ? ? ? ? ? ? ? ? ? ? ? ? ? ? ? ? ? ? ? ? ? ? ? ? ? ? ? ? ? ? ? ? ? ? ? ? ? ? ? ? ? the and a of to is br in it i this\n",
      "\n",
      "Review 3: An average movie with some good moments but overall disappointing.\n",
      "Encoded Review: [ 0  0  0  0  0  0  0  0  0  0  0  0  0  0  0  0  0  0  0  0  0  0  0  0\n",
      "  0  0  0  0  0  0  0  0  0  0  0  0  0  0  0  0  0  0  0  0  0  0  0  0\n",
      "  0  0  0  0  0  0  0  0  0  0  0  0  0  0  0  0  0  0  0  0  0  0  0  0\n",
      "  0  0  0  0  0  0  0  0  0  0  0  0  0  0  0  0  0  0  1  2  3  4  5  6\n",
      "  7  8  9 10]\n",
      "Prediction: 0.4845\n",
      "Decoded Review: ? ? ? ? ? ? ? ? ? ? ? ? ? ? ? ? ? ? ? ? ? ? ? ? ? ? ? ? ? ? ? ? ? ? ? ? ? ? ? ? ? ? ? ? ? ? ? ? ? ? ? ? ? ? ? ? ? ? ? ? ? ? ? ? ? ? ? ? ? ? ? ? ? ? ? ? ? ? ? ? ? ? ? ? ? ? ? ? ? ? ? ? ? the and a of to is br\n",
      "\n",
      "Review 4: I was blown away by the performances and the cinematography.\n",
      "Encoded Review: [0 0 0 0 0 0 0 0 0 0 0 0 0 0 0 0 0 0 0 0 0 0 0 0 0 0 0 0 0 0 0 0 0 0 0 0 0\n",
      " 0 0 0 0 0 0 0 0 0 0 0 0 0 0 0 0 0 0 0 0 0 0 0 0 0 0 0 0 0 0 0 0 0 0 0 0 0\n",
      " 0 0 0 0 0 0 0 0 0 0 0 0 0 0 0 0 2 3 4 5 6 1 7 8 1 9]\n",
      "Prediction: 0.4856\n",
      "Decoded Review: ? ? ? ? ? ? ? ? ? ? ? ? ? ? ? ? ? ? ? ? ? ? ? ? ? ? ? ? ? ? ? ? ? ? ? ? ? ? ? ? ? ? ? ? ? ? ? ? ? ? ? ? ? ? ? ? ? ? ? ? ? ? ? ? ? ? ? ? ? ? ? ? ? ? ? ? ? ? ? ? ? ? ? ? ? ? ? ? ? ? ? ? the and a ? of to ? is\n",
      "\n",
      "Review 5: The story was weak, and the characters were not well developed.\n",
      "Encoded Review: [ 0  0  0  0  0  0  0  0  0  0  0  0  0  0  0  0  0  0  0  0  0  0  0  0\n",
      "  0  0  0  0  0  0  0  0  0  0  0  0  0  0  0  0  0  0  0  0  0  0  0  0\n",
      "  0  0  0  0  0  0  0  0  0  0  0  0  0  0  0  0  0  0  0  0  0  0  0  0\n",
      "  0  0  0  0  0  0  0  0  0  0  0  0  0  0  0  0  0  1  2  3  4  5  1  6\n",
      "  7  8  9 10]\n",
      "Prediction: 0.4478\n",
      "Decoded Review: ? ? ? ? ? ? ? ? ? ? ? ? ? ? ? ? ? ? ? ? ? ? ? ? ? ? ? ? ? ? ? ? ? ? ? ? ? ? ? ? ? ? ? ? ? ? ? ? ? ? ? ? ? ? ? ? ? ? ? ? ? ? ? ? ? ? ? ? ? ? ? ? ? ? ? ? ? ? ? ? ? ? ? ? ? ? ? ? ? ? ? ? the and ? a of to is br\n",
      "\n",
      "Review 6: A masterpiece! The direction and screenplay were top-notch.\n",
      "Encoded Review: [0 0 0 0 0 0 0 0 0 0 0 0 0 0 0 0 0 0 0 0 0 0 0 0 0 0 0 0 0 0 0 0 0 0 0 0 0\n",
      " 0 0 0 0 0 0 0 0 0 0 0 0 0 0 0 0 0 0 0 0 0 0 0 0 0 0 0 0 0 0 0 0 0 0 0 0 0\n",
      " 0 0 0 0 0 0 0 0 0 0 0 0 0 0 0 0 0 1 2 3 4 5 6 7 8 9]\n",
      "Prediction: 0.4783\n",
      "Decoded Review: ? ? ? ? ? ? ? ? ? ? ? ? ? ? ? ? ? ? ? ? ? ? ? ? ? ? ? ? ? ? ? ? ? ? ? ? ? ? ? ? ? ? ? ? ? ? ? ? ? ? ? ? ? ? ? ? ? ? ? ? ? ? ? ? ? ? ? ? ? ? ? ? ? ? ? ? ? ? ? ? ? ? ? ? ? ? ? ? ? ? ? ? ? ? the and a of to is\n",
      "\n",
      "Review 7: I found the movie boring and predictable.\n",
      "Encoded Review: [0 0 0 0 0 0 0 0 0 0 0 0 0 0 0 0 0 0 0 0 0 0 0 0 0 0 0 0 0 0 0 0 0 0 0 0 0\n",
      " 0 0 0 0 0 0 0 0 0 0 0 0 0 0 0 0 0 0 0 0 0 0 0 0 0 0 0 0 0 0 0 0 0 0 0 0 0\n",
      " 0 0 0 0 0 0 0 0 0 0 0 0 0 0 0 0 0 0 0 1 2 3 4 5 6 7]\n",
      "Prediction: 0.4370\n",
      "Decoded Review: ? ? ? ? ? ? ? ? ? ? ? ? ? ? ? ? ? ? ? ? ? ? ? ? ? ? ? ? ? ? ? ? ? ? ? ? ? ? ? ? ? ? ? ? ? ? ? ? ? ? ? ? ? ? ? ? ? ? ? ? ? ? ? ? ? ? ? ? ? ? ? ? ? ? ? ? ? ? ? ? ? ? ? ? ? ? ? ? ? ? ? ? ? ? ? ? the and a of\n",
      "\n",
      "Review 8: The soundtrack was amazing, but the plot was lacking.\n",
      "Encoded Review: [0 0 0 0 0 0 0 0 0 0 0 0 0 0 0 0 0 0 0 0 0 0 0 0 0 0 0 0 0 0 0 0 0 0 0 0 0\n",
      " 0 0 0 0 0 0 0 0 0 0 0 0 0 0 0 0 0 0 0 0 0 0 0 0 0 0 0 0 0 0 0 0 0 0 0 0 0\n",
      " 0 0 0 0 0 0 0 0 0 0 0 0 0 0 0 0 0 1 3 2 4 5 1 6 2 7]\n",
      "Prediction: 0.4176\n",
      "Decoded Review: ? ? ? ? ? ? ? ? ? ? ? ? ? ? ? ? ? ? ? ? ? ? ? ? ? ? ? ? ? ? ? ? ? ? ? ? ? ? ? ? ? ? ? ? ? ? ? ? ? ? ? ? ? ? ? ? ? ? ? ? ? ? ? ? ? ? ? ? ? ? ? ? ? ? ? ? ? ? ? ? ? ? ? ? ? ? ? ? ? ? ? ? ? ? the and ? a ? of\n",
      "\n",
      "Review 9: A thrilling experience from start to finish!\n",
      "Encoded Review: [0 0 0 0 0 0 0 0 0 0 0 0 0 0 0 0 0 0 0 0 0 0 0 0 0 0 0 0 0 0 0 0 0 0 0 0 0\n",
      " 0 0 0 0 0 0 0 0 0 0 0 0 0 0 0 0 0 0 0 0 0 0 0 0 0 0 0 0 0 0 0 0 0 0 0 0 0\n",
      " 0 0 0 0 0 0 0 0 0 0 0 0 0 0 0 0 0 0 0 1 2 3 4 5 6 7]\n",
      "Prediction: 0.4370\n",
      "Decoded Review: ? ? ? ? ? ? ? ? ? ? ? ? ? ? ? ? ? ? ? ? ? ? ? ? ? ? ? ? ? ? ? ? ? ? ? ? ? ? ? ? ? ? ? ? ? ? ? ? ? ? ? ? ? ? ? ? ? ? ? ? ? ? ? ? ? ? ? ? ? ? ? ? ? ? ? ? ? ? ? ? ? ? ? ? ? ? ? ? ? ? ? ? ? ? ? ? the and a of\n",
      "\n",
      "Review 10: I wouldn't recommend this movie to anyone. It was terrible.\n",
      "Encoded Review: [ 0  0  0  0  0  0  0  0  0  0  0  0  0  0  0  0  0  0  0  0  0  0  0  0\n",
      "  0  0  0  0  0  0  0  0  0  0  0  0  0  0  0  0  0  0  0  0  0  0  0  0\n",
      "  0  0  0  0  0  0  0  0  0  0  0  0  0  0  0  0  0  0  0  0  0  0  0  0\n",
      "  0  0  0  0  0  0  0  0  0  0  0  0  0  0  0  0  0  0  1  2  3  4  5  6\n",
      "  7  8  9 10]\n",
      "Prediction: 0.4845\n",
      "Decoded Review: ? ? ? ? ? ? ? ? ? ? ? ? ? ? ? ? ? ? ? ? ? ? ? ? ? ? ? ? ? ? ? ? ? ? ? ? ? ? ? ? ? ? ? ? ? ? ? ? ? ? ? ? ? ? ? ? ? ? ? ? ? ? ? ? ? ? ? ? ? ? ? ? ? ? ? ? ? ? ? ? ? ? ? ? ? ? ? ? ? ? ? ? ? the and a of to is br\n",
      "\n"
     ]
    }
   ],
   "source": [
    "#predict on multiple reviews\n",
    "\n",
    "reviews = [\n",
    "    \"This movie was fantastic! I loved the plot and the acting was superb.\",                \n",
    "    \"The film was a complete waste of time. I didn't enjoy it at all.\",\n",
    "    \"An average movie with some good moments but overall disappointing.\",       \n",
    "    \"I was blown away by the performances and the cinematography.\",\n",
    "    \"The story was weak, and the characters were not well developed.\",      \n",
    "    \"A masterpiece! The direction and screenplay were top-notch.\",\n",
    "    \"I found the movie boring and predictable.\",    \n",
    "    \"The soundtrack was amazing, but the plot was lacking.\",    \n",
    "    \"A thrilling experience from start to finish!\",\n",
    "    \"I wouldn't recommend this movie to anyone. It was terrible.\"   \n",
    "]       \n",
    "\n",
    "# Preprocess the reviews\n",
    "padded_reviews = [preprocess_review(review) for review in reviews]  # Preprocess each review\n",
    "padded_reviews = np.vstack(padded_reviews)  # Stack the padded reviews into a single        \n",
    "# array         \n",
    "# Predict the sentiment for each review\n",
    "predictions = model.predict(padded_reviews)  # Predict the sentiment for all reviews    \n",
    "# Print the predictions\n",
    "for i, review in enumerate(reviews):    \n",
    "    print(f\"Review {i+1}: {review}\")\n",
    "    print(f\"Encoded Review: {padded_reviews[i]}\")\n",
    "    print(f\"Prediction: {predictions[i][0]:.4f}\")  # Print the prediction score\n",
    "    decoded_review = decode_review(padded_reviews[i])  # Decode the review\n",
    "    print(f\"Decoded Review: {decoded_review}\\n\")  # Print the decoded review            \n"
   ]
  },
  {
   "cell_type": "code",
   "execution_count": null,
   "id": "988083e1",
   "metadata": {},
   "outputs": [],
   "source": []
  },
  {
   "cell_type": "code",
   "execution_count": null,
   "id": "bf0baf10",
   "metadata": {},
   "outputs": [],
   "source": []
  },
  {
   "cell_type": "code",
   "execution_count": null,
   "id": "5d4c2dfa",
   "metadata": {},
   "outputs": [],
   "source": []
  }
 ],
 "metadata": {
  "kernelspec": {
   "display_name": ".venv",
   "language": "python",
   "name": "python3"
  },
  "language_info": {
   "codemirror_mode": {
    "name": "ipython",
    "version": 3
   },
   "file_extension": ".py",
   "mimetype": "text/x-python",
   "name": "python",
   "nbconvert_exporter": "python",
   "pygments_lexer": "ipython3",
   "version": "3.11.9"
  }
 },
 "nbformat": 4,
 "nbformat_minor": 5
}
