{
 "cells": [
  {
   "cell_type": "code",
   "execution_count": 3,
   "id": "18ca60f3",
   "metadata": {},
   "outputs": [],
   "source": [
    "from tensorflow.keras.preprocessing.text import one_hot\n",
    "from tensorflow.keras.preprocessing.text import Tokenizer\n",
    "from tensorflow.keras.preprocessing.sequence import pad_sequences\n"
   ]
  },
  {
   "cell_type": "code",
   "execution_count": 4,
   "id": "70725b29",
   "metadata": {},
   "outputs": [],
   "source": [
    "sent = ['The car is driven on the road',\n",
    "        'The truck is driven on the road',  \n",
    "        'The bike is driven on the road',\n",
    "        'The bus is driven on the road',\n",
    "        'The train is driven on the road',\n",
    "        'The plane is driven on the road',\n",
    "        'The boat is driven on the road',\n",
    "        'The scooter is driven on the road',\n",
    "        'The motorcycle is driven on the road',\n",
    "        'The van is driven on the road']    \n"
   ]
  },
  {
   "cell_type": "code",
   "execution_count": 22,
   "id": "8666cf59",
   "metadata": {},
   "outputs": [
    {
     "name": "stdout",
     "output_type": "stream",
     "text": [
      "[611, 611, 4595, 3132, 2330, 611, 5775]\n",
      "[611, 7460, 4595, 3132, 2330, 611, 5775]\n",
      "[611, 1102, 4595, 3132, 2330, 611, 5775]\n",
      "[611, 7917, 4595, 3132, 2330, 611, 5775]\n",
      "[611, 2719, 4595, 3132, 2330, 611, 5775]\n",
      "[611, 3826, 4595, 3132, 2330, 611, 5775]\n",
      "[611, 2836, 4595, 3132, 2330, 611, 5775]\n",
      "[611, 9636, 4595, 3132, 2330, 611, 5775]\n",
      "[611, 8310, 4595, 3132, 2330, 611, 5775]\n",
      "[611, 5965, 4595, 3132, 2330, 611, 5775]\n"
     ]
    }
   ],
   "source": [
    "##Defining vocabulary size\n",
    "vocab_size = 10000\n",
    "##One hot representation\n",
    "onehot_repr = [one_hot(words, vocab_size) for words in sent]\n",
    "##Print one hot representation\n",
    "for i in onehot_repr:\n",
    "    print(i)    "
   ]
  },
  {
   "cell_type": "code",
   "execution_count": 23,
   "id": "5cac403a",
   "metadata": {},
   "outputs": [],
   "source": [
    "##word embedding representation\n",
    "from tensorflow.keras.layers import Embedding\n",
    "from tensorflow.keras.models import Sequential\n",
    "from tensorflow.keras.preprocessing.sequence import pad_sequences   \n",
    "import numpy as np  \n",
    "\n"
   ]
  },
  {
   "cell_type": "code",
   "execution_count": 24,
   "id": "3ecb3a83",
   "metadata": {},
   "outputs": [
    {
     "name": "stdout",
     "output_type": "stream",
     "text": [
      "[[   0    0    0  611  611 4595 3132 2330  611 5775]\n",
      " [   0    0    0  611 7460 4595 3132 2330  611 5775]\n",
      " [   0    0    0  611 1102 4595 3132 2330  611 5775]\n",
      " [   0    0    0  611 7917 4595 3132 2330  611 5775]\n",
      " [   0    0    0  611 2719 4595 3132 2330  611 5775]\n",
      " [   0    0    0  611 3826 4595 3132 2330  611 5775]\n",
      " [   0    0    0  611 2836 4595 3132 2330  611 5775]\n",
      " [   0    0    0  611 9636 4595 3132 2330  611 5775]\n",
      " [   0    0    0  611 8310 4595 3132 2330  611 5775]\n",
      " [   0    0    0  611 5965 4595 3132 2330  611 5775]]\n"
     ]
    }
   ],
   "source": [
    "# Define the embedding layer\n",
    "sentence_length = 10  # Length of each input sequence\n",
    "# Assuming vocab_size is defined as the number of unique words in your dataset\n",
    "embedded_docs = pad_sequences(onehot_repr, padding='pre', maxlen=sentence_length)\n",
    "print(embedded_docs)"
   ]
  },
  {
   "cell_type": "code",
   "execution_count": 36,
   "id": "b344aa38",
   "metadata": {},
   "outputs": [
    {
     "name": "stderr",
     "output_type": "stream",
     "text": [
      "c:\\Users\\sande\\Documents\\GitHub\\RNN_Project_LLM\\.venv\\Lib\\site-packages\\keras\\src\\layers\\core\\embedding.py:97: UserWarning: Argument `input_length` is deprecated. Just remove it.\n",
      "  warnings.warn(\n"
     ]
    }
   ],
   "source": [
    "embedding_dim = 100  # Dimension of the embedding vector\n",
    "embedding_layer = Embedding(input_dim=vocab_size, output_dim=embedding_dim, input_length=10)        \n"
   ]
  },
  {
   "cell_type": "code",
   "execution_count": 37,
   "id": "a52abbef",
   "metadata": {},
   "outputs": [
    {
     "data": {
      "text/html": [
       "<pre style=\"white-space:pre;overflow-x:auto;line-height:normal;font-family:Menlo,'DejaVu Sans Mono',consolas,'Courier New',monospace\"><span style=\"font-weight: bold\">Model: \"sequential_12\"</span>\n",
       "</pre>\n"
      ],
      "text/plain": [
       "\u001b[1mModel: \"sequential_12\"\u001b[0m\n"
      ]
     },
     "metadata": {},
     "output_type": "display_data"
    },
    {
     "data": {
      "text/html": [
       "<pre style=\"white-space:pre;overflow-x:auto;line-height:normal;font-family:Menlo,'DejaVu Sans Mono',consolas,'Courier New',monospace\">┏━━━━━━━━━━━━━━━━━━━━━━━━━━━━━━━━━┳━━━━━━━━━━━━━━━━━━━━━━━━┳━━━━━━━━━━━━━━━┓\n",
       "┃<span style=\"font-weight: bold\"> Layer (type)                    </span>┃<span style=\"font-weight: bold\"> Output Shape           </span>┃<span style=\"font-weight: bold\">       Param # </span>┃\n",
       "┡━━━━━━━━━━━━━━━━━━━━━━━━━━━━━━━━━╇━━━━━━━━━━━━━━━━━━━━━━━━╇━━━━━━━━━━━━━━━┩\n",
       "│ embedding_14 (<span style=\"color: #0087ff; text-decoration-color: #0087ff\">Embedding</span>)        │ (<span style=\"color: #00d7ff; text-decoration-color: #00d7ff\">None</span>, <span style=\"color: #00af00; text-decoration-color: #00af00\">10</span>, <span style=\"color: #00af00; text-decoration-color: #00af00\">100</span>)        │     <span style=\"color: #00af00; text-decoration-color: #00af00\">1,000,000</span> │\n",
       "└─────────────────────────────────┴────────────────────────┴───────────────┘\n",
       "</pre>\n"
      ],
      "text/plain": [
       "┏━━━━━━━━━━━━━━━━━━━━━━━━━━━━━━━━━┳━━━━━━━━━━━━━━━━━━━━━━━━┳━━━━━━━━━━━━━━━┓\n",
       "┃\u001b[1m \u001b[0m\u001b[1mLayer (type)                   \u001b[0m\u001b[1m \u001b[0m┃\u001b[1m \u001b[0m\u001b[1mOutput Shape          \u001b[0m\u001b[1m \u001b[0m┃\u001b[1m \u001b[0m\u001b[1m      Param #\u001b[0m\u001b[1m \u001b[0m┃\n",
       "┡━━━━━━━━━━━━━━━━━━━━━━━━━━━━━━━━━╇━━━━━━━━━━━━━━━━━━━━━━━━╇━━━━━━━━━━━━━━━┩\n",
       "│ embedding_14 (\u001b[38;5;33mEmbedding\u001b[0m)        │ (\u001b[38;5;45mNone\u001b[0m, \u001b[38;5;34m10\u001b[0m, \u001b[38;5;34m100\u001b[0m)        │     \u001b[38;5;34m1,000,000\u001b[0m │\n",
       "└─────────────────────────────────┴────────────────────────┴───────────────┘\n"
      ]
     },
     "metadata": {},
     "output_type": "display_data"
    },
    {
     "data": {
      "text/html": [
       "<pre style=\"white-space:pre;overflow-x:auto;line-height:normal;font-family:Menlo,'DejaVu Sans Mono',consolas,'Courier New',monospace\"><span style=\"font-weight: bold\"> Total params: </span><span style=\"color: #00af00; text-decoration-color: #00af00\">1,000,000</span> (3.81 MB)\n",
       "</pre>\n"
      ],
      "text/plain": [
       "\u001b[1m Total params: \u001b[0m\u001b[38;5;34m1,000,000\u001b[0m (3.81 MB)\n"
      ]
     },
     "metadata": {},
     "output_type": "display_data"
    },
    {
     "data": {
      "text/html": [
       "<pre style=\"white-space:pre;overflow-x:auto;line-height:normal;font-family:Menlo,'DejaVu Sans Mono',consolas,'Courier New',monospace\"><span style=\"font-weight: bold\"> Trainable params: </span><span style=\"color: #00af00; text-decoration-color: #00af00\">1,000,000</span> (3.81 MB)\n",
       "</pre>\n"
      ],
      "text/plain": [
       "\u001b[1m Trainable params: \u001b[0m\u001b[38;5;34m1,000,000\u001b[0m (3.81 MB)\n"
      ]
     },
     "metadata": {},
     "output_type": "display_data"
    },
    {
     "data": {
      "text/html": [
       "<pre style=\"white-space:pre;overflow-x:auto;line-height:normal;font-family:Menlo,'DejaVu Sans Mono',consolas,'Courier New',monospace\"><span style=\"font-weight: bold\"> Non-trainable params: </span><span style=\"color: #00af00; text-decoration-color: #00af00\">0</span> (0.00 B)\n",
       "</pre>\n"
      ],
      "text/plain": [
       "\u001b[1m Non-trainable params: \u001b[0m\u001b[38;5;34m0\u001b[0m (0.00 B)\n"
      ]
     },
     "metadata": {},
     "output_type": "display_data"
    }
   ],
   "source": [
    "model = Sequential()\n",
    "model.add(Embedding(input_dim=vocab_size, output_dim=embedding_dim, input_length=sentence_length))\n",
    "model.build(input_shape=(None, sentence_length))  # <-- Add this line\n",
    "model.compile(optimizer='adam', loss='mse')\n",
    "model.summary()"
   ]
  },
  {
   "cell_type": "code",
   "execution_count": 38,
   "id": "9bbe93c6",
   "metadata": {},
   "outputs": [
    {
     "name": "stdout",
     "output_type": "stream",
     "text": [
      "\u001b[1m1/1\u001b[0m \u001b[32m━━━━━━━━━━━━━━━━━━━━\u001b[0m\u001b[37m\u001b[0m \u001b[1m0s\u001b[0m 103ms/step\n"
     ]
    },
    {
     "data": {
      "text/plain": [
       "array([[[-0.03870051,  0.00078052,  0.02696693, ...,  0.03052222,\n",
       "          0.01184867,  0.01352989],\n",
       "        [-0.03870051,  0.00078052,  0.02696693, ...,  0.03052222,\n",
       "          0.01184867,  0.01352989],\n",
       "        [-0.03870051,  0.00078052,  0.02696693, ...,  0.03052222,\n",
       "          0.01184867,  0.01352989],\n",
       "        ...,\n",
       "        [ 0.01491806,  0.04626426, -0.04026644, ..., -0.02908311,\n",
       "          0.00036962,  0.0381987 ],\n",
       "        [ 0.01172408,  0.02634517, -0.03410791, ...,  0.0244877 ,\n",
       "          0.04187185, -0.02572525],\n",
       "        [-0.0306631 ,  0.03444386, -0.0244224 , ..., -0.00113638,\n",
       "         -0.04995039,  0.03550914]],\n",
       "\n",
       "       [[-0.03870051,  0.00078052,  0.02696693, ...,  0.03052222,\n",
       "          0.01184867,  0.01352989],\n",
       "        [-0.03870051,  0.00078052,  0.02696693, ...,  0.03052222,\n",
       "          0.01184867,  0.01352989],\n",
       "        [-0.03870051,  0.00078052,  0.02696693, ...,  0.03052222,\n",
       "          0.01184867,  0.01352989],\n",
       "        ...,\n",
       "        [ 0.01491806,  0.04626426, -0.04026644, ..., -0.02908311,\n",
       "          0.00036962,  0.0381987 ],\n",
       "        [ 0.01172408,  0.02634517, -0.03410791, ...,  0.0244877 ,\n",
       "          0.04187185, -0.02572525],\n",
       "        [-0.0306631 ,  0.03444386, -0.0244224 , ..., -0.00113638,\n",
       "         -0.04995039,  0.03550914]],\n",
       "\n",
       "       [[-0.03870051,  0.00078052,  0.02696693, ...,  0.03052222,\n",
       "          0.01184867,  0.01352989],\n",
       "        [-0.03870051,  0.00078052,  0.02696693, ...,  0.03052222,\n",
       "          0.01184867,  0.01352989],\n",
       "        [-0.03870051,  0.00078052,  0.02696693, ...,  0.03052222,\n",
       "          0.01184867,  0.01352989],\n",
       "        ...,\n",
       "        [ 0.01491806,  0.04626426, -0.04026644, ..., -0.02908311,\n",
       "          0.00036962,  0.0381987 ],\n",
       "        [ 0.01172408,  0.02634517, -0.03410791, ...,  0.0244877 ,\n",
       "          0.04187185, -0.02572525],\n",
       "        [-0.0306631 ,  0.03444386, -0.0244224 , ..., -0.00113638,\n",
       "         -0.04995039,  0.03550914]],\n",
       "\n",
       "       ...,\n",
       "\n",
       "       [[-0.03870051,  0.00078052,  0.02696693, ...,  0.03052222,\n",
       "          0.01184867,  0.01352989],\n",
       "        [-0.03870051,  0.00078052,  0.02696693, ...,  0.03052222,\n",
       "          0.01184867,  0.01352989],\n",
       "        [-0.03870051,  0.00078052,  0.02696693, ...,  0.03052222,\n",
       "          0.01184867,  0.01352989],\n",
       "        ...,\n",
       "        [ 0.01491806,  0.04626426, -0.04026644, ..., -0.02908311,\n",
       "          0.00036962,  0.0381987 ],\n",
       "        [ 0.01172408,  0.02634517, -0.03410791, ...,  0.0244877 ,\n",
       "          0.04187185, -0.02572525],\n",
       "        [-0.0306631 ,  0.03444386, -0.0244224 , ..., -0.00113638,\n",
       "         -0.04995039,  0.03550914]],\n",
       "\n",
       "       [[-0.03870051,  0.00078052,  0.02696693, ...,  0.03052222,\n",
       "          0.01184867,  0.01352989],\n",
       "        [-0.03870051,  0.00078052,  0.02696693, ...,  0.03052222,\n",
       "          0.01184867,  0.01352989],\n",
       "        [-0.03870051,  0.00078052,  0.02696693, ...,  0.03052222,\n",
       "          0.01184867,  0.01352989],\n",
       "        ...,\n",
       "        [ 0.01491806,  0.04626426, -0.04026644, ..., -0.02908311,\n",
       "          0.00036962,  0.0381987 ],\n",
       "        [ 0.01172408,  0.02634517, -0.03410791, ...,  0.0244877 ,\n",
       "          0.04187185, -0.02572525],\n",
       "        [-0.0306631 ,  0.03444386, -0.0244224 , ..., -0.00113638,\n",
       "         -0.04995039,  0.03550914]],\n",
       "\n",
       "       [[-0.03870051,  0.00078052,  0.02696693, ...,  0.03052222,\n",
       "          0.01184867,  0.01352989],\n",
       "        [-0.03870051,  0.00078052,  0.02696693, ...,  0.03052222,\n",
       "          0.01184867,  0.01352989],\n",
       "        [-0.03870051,  0.00078052,  0.02696693, ...,  0.03052222,\n",
       "          0.01184867,  0.01352989],\n",
       "        ...,\n",
       "        [ 0.01491806,  0.04626426, -0.04026644, ..., -0.02908311,\n",
       "          0.00036962,  0.0381987 ],\n",
       "        [ 0.01172408,  0.02634517, -0.03410791, ...,  0.0244877 ,\n",
       "          0.04187185, -0.02572525],\n",
       "        [-0.0306631 ,  0.03444386, -0.0244224 , ..., -0.00113638,\n",
       "         -0.04995039,  0.03550914]]], dtype=float32)"
      ]
     },
     "execution_count": 38,
     "metadata": {},
     "output_type": "execute_result"
    }
   ],
   "source": [
    "model.predict(embedded_docs)"
   ]
  },
  {
   "cell_type": "code",
   "execution_count": null,
   "id": "1d2a8363",
   "metadata": {},
   "outputs": [],
   "source": []
  }
 ],
 "metadata": {
  "kernelspec": {
   "display_name": ".venv",
   "language": "python",
   "name": "python3"
  },
  "language_info": {
   "codemirror_mode": {
    "name": "ipython",
    "version": 3
   },
   "file_extension": ".py",
   "mimetype": "text/x-python",
   "name": "python",
   "nbconvert_exporter": "python",
   "pygments_lexer": "ipython3",
   "version": "3.11.9"
  }
 },
 "nbformat": 4,
 "nbformat_minor": 5
}
